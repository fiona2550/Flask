{
 "cells": [
  {
   "cell_type": "code",
   "execution_count": 42,
   "metadata": {
    "collapsed": true
   },
   "outputs": [],
   "source": [
    "class Student:\n",
    "    def __init__(self, name, school):\n",
    "        self.name = name\n",
    "        self.school = school\n",
    "        self.marks = []\n",
    "    def average(self):\n",
    "        return sum(self.marks) / len(self.marks)\n",
    "    \n",
    "    @classmethod\n",
    "    def friend(cls, origin, friend_name, salary):\n",
    "        return cls(friend_name, origin.school, salary)\n",
    "    \n",
    "class WorkingStudent(Student):\n",
    "    def __init__(self, name, school, salary):\n",
    "        super().__init__(name, school)\n",
    "        self.salary = salary"
   ]
  },
  {
   "cell_type": "code",
   "execution_count": 43,
   "metadata": {},
   "outputs": [
    {
     "name": "stdout",
     "output_type": "stream",
     "text": [
      "Anna\n",
      "Oxford\n",
      "20.0\n",
      "Greg\n",
      "Oxford\n",
      "17.5\n"
     ]
    }
   ],
   "source": [
    "anna = WorkingStudent(\"Anna\", \"Oxford\", 20.00)\n",
    "print(anna.name)\n",
    "print(anna.school)\n",
    "print(anna.salary)\n",
    "\n",
    "friend = WorkingStudent.friend(anna, \"Greg\", 17.50)\n",
    "print(friend.name)\n",
    "print(friend.school)\n",
    "print(friend.salary)"
   ]
  },
  {
   "cell_type": "code",
   "execution_count": 15,
   "metadata": {
    "collapsed": true
   },
   "outputs": [],
   "source": [
    "def addition_simplified (*args):\n",
    "    return sum(args)"
   ]
  },
  {
   "cell_type": "code",
   "execution_count": 24,
   "metadata": {
    "collapsed": true
   },
   "outputs": [],
   "source": [
    "def what_are(*args, **kwargs):\n",
    "    print(args) \n",
    "    print(kwargs) "
   ]
  },
  {
   "cell_type": "code",
   "execution_count": 25,
   "metadata": {},
   "outputs": [
    {
     "name": "stdout",
     "output_type": "stream",
     "text": [
      "(12, 24)\n",
      "{'name': 'Jose'}\n"
     ]
    }
   ],
   "source": [
    "what_are(12,24, name = 'Jose')"
   ]
  },
  {
   "cell_type": "code",
   "execution_count": 45,
   "metadata": {
    "collapsed": true
   },
   "outputs": [],
   "source": [
    "class Student:\n",
    "    def __init__(self, name, school):\n",
    "        self.name = name\n",
    "        self.school = school\n",
    "        self.marks = []\n",
    "    def average(self):\n",
    "        return sum(self.marks) / len(self.marks)\n",
    "        \n",
    "\n",
    "    @classmethod\n",
    "    def friend(cls, origin, friend_name, *args):\n",
    "        return cls(friend_name, origin.school, *args)\n",
    "        #it would pass any arguments back to init\n",
    "    \n",
    "class WorkingStudent(Student):\n",
    "    def __init__(self, name, school, salary, job_title):\n",
    "        super().__init__(name, school)\n",
    "        self.salary = salary\n",
    "        self.job_title = job_title"
   ]
  },
  {
   "cell_type": "markdown",
   "metadata": {},
   "source": []
  },
  {
   "cell_type": "code",
   "execution_count": 46,
   "metadata": {},
   "outputs": [
    {
     "name": "stdout",
     "output_type": "stream",
     "text": [
      "Anna\n",
      "Oxford\n",
      "12\n",
      "Greg\n",
      "Oxford\n",
      "17.5\n"
     ]
    }
   ],
   "source": [
    "anna = WorkingStudent(\"Anna\", \"Oxford\",12,'sde')\n",
    "print(anna.name)\n",
    "print(anna.school)\n",
    "print(anna.salary)\n",
    "\n",
    "friend = WorkingStudent.friend(anna, \"Greg\", 17.50, 'sde')\n",
    "print(friend.name)\n",
    "print(friend.school)\n",
    "print(friend.salary)"
   ]
  },
  {
   "cell_type": "markdown",
   "metadata": {},
   "source": [
    "### Decorators"
   ]
  },
  {
   "cell_type": "code",
   "execution_count": 48,
   "metadata": {},
   "outputs": [],
   "source": [
    "import functools"
   ]
  },
  {
   "cell_type": "code",
   "execution_count": 53,
   "metadata": {},
   "outputs": [
    {
     "name": "stdout",
     "output_type": "stream",
     "text": [
      "In the decorator\n",
      "I am the funcyion\n",
      "After the decorator!\n"
     ]
    }
   ],
   "source": [
    "def my_decorator(func):\n",
    "    @functools.wraps(func)\n",
    "    def function_that_runs_func(): # This is the function that's really running\n",
    "        print(\"In the decorator\")\n",
    "        func()\n",
    "        print(\"After the decorator!\")\n",
    "    return function_that_runs_func\n",
    "\n",
    "@my_decorator\n",
    "def my_function():\n",
    "    print('I am the funcyion')\n",
    "    \n",
    "my_function()"
   ]
  },
  {
   "cell_type": "code",
   "execution_count": 60,
   "metadata": {
    "collapsed": true
   },
   "outputs": [],
   "source": [
    "from flask import Flask, jsonify"
   ]
  },
  {
   "cell_type": "code",
   "execution_count": 57,
   "metadata": {
    "collapsed": true
   },
   "outputs": [],
   "source": [
    "app = Flask(__name__)"
   ]
  },
  {
   "cell_type": "code",
   "execution_count": 58,
   "metadata": {},
   "outputs": [
    {
     "name": "stderr",
     "output_type": "stream",
     "text": [
      " * Running on http://127.0.0.1:5000/ (Press CTRL+C to quit)\n",
      "127.0.0.1 - - [21/Jan/2020 20:36:14] \"GET / HTTP/1.1\" 200 -\n",
      "127.0.0.1 - - [21/Jan/2020 20:36:14] \"GET /favicon.ico HTTP/1.1\" 404 -\n",
      "127.0.0.1 - - [21/Jan/2020 21:55:31] \"GET / HTTP/1.1\" 200 -\n"
     ]
    }
   ],
   "source": [
    "@app.route('/') #http://www.google.com Create a homepage\n",
    "def home():\n",
    "    return \"hello world!\"\n",
    "app.run(port=5000)"
   ]
  },
  {
   "cell_type": "code",
   "execution_count": null,
   "metadata": {},
   "outputs": [
    {
     "name": "stderr",
     "output_type": "stream",
     "text": [
      " * Running on http://127.0.0.1:5000/ (Press CTRL+C to quit)\n",
      "127.0.0.1 - - [22/Jan/2020 00:24:08] \"GET / HTTP/1.1\" 404 -\n",
      "127.0.0.1 - - [22/Jan/2020 00:24:24] \"GET /store HTTP/1.1\" 200 -\n"
     ]
    }
   ],
   "source": [
    "app = Flask(__name__)\n",
    "#Dictionary are not ordered\n",
    "stores = [\n",
    "    {\n",
    "    'name':'My wonderful',\n",
    "    'item': [\n",
    "            {\n",
    "            'name':'My Item',\n",
    "            'price': 15.90\n",
    "            }\n",
    "        ]\n",
    "    }\n",
    "]\n",
    "@app.route('/store',methods = ['POST']) #http://www.google.com Create a homepage\n",
    "def create_store():\n",
    "    pass\n",
    "\n",
    "@app.route('/store/<string:name>')\n",
    "def get_store(name):\n",
    "    pass\n",
    "\n",
    "@app.route('/store')\n",
    "def get_stores():\n",
    "    return jsonify({'stores':stores})\n",
    "\n",
    "#Post\n",
    "@app.route('/store/<string:name>/item',methods = ['POST'])\n",
    "def create_item_in_store(name):\n",
    "    pass\n",
    "\n",
    "@app.route('/store/<string:name>/item')\n",
    "def get_items_in_store(name):\n",
    "    pass\n",
    "\n",
    "app.run(port=5000)"
   ]
  },
  {
   "cell_type": "code",
   "execution_count": null,
   "metadata": {
    "collapsed": true
   },
   "outputs": [],
   "source": []
  }
 ],
 "metadata": {
  "kernelspec": {
   "display_name": "Python 3",
   "language": "python",
   "name": "python3"
  },
  "language_info": {
   "codemirror_mode": {
    "name": "ipython",
    "version": 3
   },
   "file_extension": ".py",
   "mimetype": "text/x-python",
   "name": "python",
   "nbconvert_exporter": "python",
   "pygments_lexer": "ipython3",
   "version": "3.7.5"
  }
 },
 "nbformat": 4,
 "nbformat_minor": 2
}
