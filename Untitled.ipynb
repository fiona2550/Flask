{
 "cells": [
  {
   "cell_type": "code",
   "execution_count": 15,
   "metadata": {},
   "outputs": [],
   "source": [
    "from flask import Flask, request\n",
    "from flask_restful import Resource, Api, reqparse\n",
    "from flask_jwt import JWT, jwt_required\n",
    "from security import authenticate, identity"
   ]
  },
  {
   "cell_type": "code",
   "execution_count": 12,
   "metadata": {
    "collapsed": true
   },
   "outputs": [],
   "source": [
    "app = Flask(__name__)\n",
    "app.secret_key = 'jose'\n",
    "api = Api(app)\n",
    "jwt = JWT(app, authenticate, identity) #/auth\n",
    "items = []"
   ]
  },
  {
   "cell_type": "code",
   "execution_count": 21,
   "metadata": {},
   "outputs": [],
   "source": [
    "class Item(Resource):\n",
    "    parser = reqparse.RequestParser()\n",
    "    parser.add_argument('price',\n",
    "                     type = float,\n",
    "                     required = True,\n",
    "                     help = 'This field cannot be left blank'\n",
    "                           )\n",
    "    @jwt_required()\n",
    "    def get(self, name):\n",
    "        item = next(filter (lambda x: x['name'] == name, items),None)\n",
    "        return {'item' :item}, 200 if item else 404 # flask_restful does jsonify, so no need to do again\n",
    "\n",
    "    def post(self, name):        \n",
    "        #Ture do not need header\n",
    "        if next(filter (lambda x: x['name'] == name, items),None):\n",
    "            return {'message':\"An item with name '{}' already exists\".format(name)}, 400\n",
    "        data = Item.parser.parse_args()\n",
    "        \n",
    "        item = {'name': name, 'price': data['price']}\n",
    "        items.append(item)\n",
    "        return item, 201\n",
    "        \n",
    "    def delete(self, name):\n",
    "        global items\n",
    "        items = list(filter(lambda x: x['name'] != name, items))\n",
    "        return {'message':'Item deleted'}\n",
    "    \n",
    "    def put(self, name):\n",
    "        data = Item.parser.parse_args()       \n",
    "        item = next(filter(lambda x: x['name'] == name, items), None)\n",
    "        if item is None:\n",
    "            item = {'name': name, 'price': data['price']}\n",
    "            item.append(item)\n",
    "        else:\n",
    "            item.update(data)\n",
    "        return item\n",
    "    \n",
    "class ItemList(Resource):\n",
    "    def get(self):\n",
    "        return {'items':items} "
   ]
  },
  {
   "cell_type": "code",
   "execution_count": 22,
   "metadata": {},
   "outputs": [
    {
     "name": "stderr",
     "output_type": "stream",
     "text": [
      " * Restarting with stat\n"
     ]
    },
    {
     "ename": "SystemExit",
     "evalue": "1",
     "output_type": "error",
     "traceback": [
      "An exception has occurred, use %tb to see the full traceback.\n",
      "\u001b[1;31mSystemExit\u001b[0m\u001b[1;31m:\u001b[0m 1\n"
     ]
    },
    {
     "name": "stderr",
     "output_type": "stream",
     "text": [
      "D:\\Anaconda\\lib\\site-packages\\IPython\\core\\interactiveshell.py:2870: UserWarning: To exit: use 'exit', 'quit', or Ctrl-D.\n",
      "  warn(\"To exit: use 'exit', 'quit', or Ctrl-D.\", stacklevel=1)\n"
     ]
    }
   ],
   "source": [
    "app.run(port = 5000, debug= True)"
   ]
  },
  {
   "cell_type": "code",
   "execution_count": 23,
   "metadata": {
    "collapsed": true
   },
   "outputs": [],
   "source": [
    "import sqlite3"
   ]
  },
  {
   "cell_type": "code",
   "execution_count": 25,
   "metadata": {},
   "outputs": [],
   "source": [
    "connection = sqlite3.connect('data.db')"
   ]
  },
  {
   "cell_type": "code",
   "execution_count": 26,
   "metadata": {
    "collapsed": true
   },
   "outputs": [],
   "source": [
    "cursor = connection.cursor()"
   ]
  },
  {
   "cell_type": "code",
   "execution_count": 27,
   "metadata": {
    "collapsed": true
   },
   "outputs": [],
   "source": [
    "create_table = 'CREATE TABLE users (id int, username text, password text)'"
   ]
  },
  {
   "cell_type": "code",
   "execution_count": 28,
   "metadata": {},
   "outputs": [
    {
     "data": {
      "text/plain": [
       "<sqlite3.Cursor at 0x1f73a1e6180>"
      ]
     },
     "execution_count": 28,
     "metadata": {},
     "output_type": "execute_result"
    }
   ],
   "source": [
    "cursor.execute(create_table)"
   ]
  },
  {
   "cell_type": "code",
   "execution_count": 34,
   "metadata": {
    "collapsed": true
   },
   "outputs": [],
   "source": [
    "users = [(1,'jose','asdf'),\n",
    "         (2,'rolf','asdf'),\n",
    "         (1,'jack','asdf')]"
   ]
  },
  {
   "cell_type": "code",
   "execution_count": 31,
   "metadata": {},
   "outputs": [
    {
     "data": {
      "text/plain": [
       "<sqlite3.Cursor at 0x1f73a1e6180>"
      ]
     },
     "execution_count": 31,
     "metadata": {},
     "output_type": "execute_result"
    }
   ],
   "source": [
    "insert_query = 'Insert into users Values (?, ?, ?)'\n",
    "cursor.execute(insert_query, user)"
   ]
  },
  {
   "cell_type": "code",
   "execution_count": 35,
   "metadata": {},
   "outputs": [
    {
     "data": {
      "text/plain": [
       "<sqlite3.Cursor at 0x1f73a1e6180>"
      ]
     },
     "execution_count": 35,
     "metadata": {},
     "output_type": "execute_result"
    }
   ],
   "source": [
    "insert_query = 'Insert into users Values (?, ?, ?)'\n",
    "cursor.executemany(insert_query, users)"
   ]
  },
  {
   "cell_type": "code",
   "execution_count": 37,
   "metadata": {
    "collapsed": true
   },
   "outputs": [],
   "source": [
    "select_query = \"Select * from users\""
   ]
  },
  {
   "cell_type": "code",
   "execution_count": 38,
   "metadata": {},
   "outputs": [
    {
     "name": "stdout",
     "output_type": "stream",
     "text": [
      "(1, 'jose', 'asdf')\n",
      "(1, 'jose', 'asdf')\n",
      "(2, 'rolf', 'asdf')\n",
      "(1, 'jack', 'asdf')\n"
     ]
    }
   ],
   "source": [
    "for row in cursor.execute(select_query):\n",
    "    print(row)"
   ]
  },
  {
   "cell_type": "code",
   "execution_count": 39,
   "metadata": {
    "collapsed": true
   },
   "outputs": [],
   "source": [
    "connection.commit()"
   ]
  },
  {
   "cell_type": "code",
   "execution_count": 40,
   "metadata": {
    "collapsed": true
   },
   "outputs": [],
   "source": [
    "connection.close()"
   ]
  },
  {
   "cell_type": "code",
   "execution_count": null,
   "metadata": {
    "collapsed": true
   },
   "outputs": [],
   "source": []
  }
 ],
 "metadata": {
  "kernelspec": {
   "display_name": "Python 3",
   "language": "python",
   "name": "python3"
  },
  "language_info": {
   "codemirror_mode": {
    "name": "ipython",
    "version": 3
   },
   "file_extension": ".py",
   "mimetype": "text/x-python",
   "name": "python",
   "nbconvert_exporter": "python",
   "pygments_lexer": "ipython3",
   "version": "3.6.5"
  }
 },
 "nbformat": 4,
 "nbformat_minor": 2
}
