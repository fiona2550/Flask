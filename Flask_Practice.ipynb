{
 "cells": [
  {
   "cell_type": "code",
   "execution_count": 42,
   "metadata": {
    "collapsed": true
   },
   "outputs": [],
   "source": [
    "class Student:\n",
    "    def __init__(self, name, school):\n",
    "        self.name = name\n",
    "        self.school = school\n",
    "        self.marks = []\n",
    "    def average(self):\n",
    "        return sum(self.marks) / len(self.marks)\n",
    "    \n",
    "    @classmethod\n",
    "    def friend(cls, origin, friend_name, salary):\n",
    "        return cls(friend_name, origin.school, salary)\n",
    "    \n",
    "class WorkingStudent(Student):\n",
    "    def __init__(self, name, school, salary):\n",
    "        super().__init__(name, school)\n",
    "        self.salary = salary"
   ]
  },
  {
   "cell_type": "code",
   "execution_count": 43,
   "metadata": {},
   "outputs": [
    {
     "name": "stdout",
     "output_type": "stream",
     "text": [
      "Anna\n",
      "Oxford\n",
      "20.0\n",
      "Greg\n",
      "Oxford\n",
      "17.5\n"
     ]
    }
   ],
   "source": [
    "anna = WorkingStudent(\"Anna\", \"Oxford\", 20.00)\n",
    "print(anna.name)\n",
    "print(anna.school)\n",
    "print(anna.salary)\n",
    "\n",
    "friend = WorkingStudent.friend(anna, \"Greg\", 17.50)\n",
    "print(friend.name)\n",
    "print(friend.school)\n",
    "print(friend.salary)"
   ]
  },
  {
   "cell_type": "code",
   "execution_count": 15,
   "metadata": {
    "collapsed": true
   },
   "outputs": [],
   "source": [
    "def addition_simplified (*args):\n",
    "    return sum(args)"
   ]
  },
  {
   "cell_type": "code",
   "execution_count": 24,
   "metadata": {
    "collapsed": true
   },
   "outputs": [],
   "source": [
    "def what_are(*args, **kwargs):\n",
    "    print(args) \n",
    "    print(kwargs) "
   ]
  },
  {
   "cell_type": "code",
   "execution_count": 25,
   "metadata": {},
   "outputs": [
    {
     "name": "stdout",
     "output_type": "stream",
     "text": [
      "(12, 24)\n",
      "{'name': 'Jose'}\n"
     ]
    }
   ],
   "source": [
    "what_are(12,24, name = 'Jose')"
   ]
  },
  {
   "cell_type": "code",
   "execution_count": 45,
   "metadata": {
    "collapsed": true
   },
   "outputs": [],
   "source": [
    "class Student:\n",
    "    def __init__(self, name, school):\n",
    "        self.name = name\n",
    "        self.school = school\n",
    "        self.marks = []\n",
    "    def average(self):\n",
    "        return sum(self.marks) / len(self.marks)\n",
    "        \n",
    "\n",
    "    @classmethod\n",
    "    def friend(cls, origin, friend_name, *args):\n",
    "        return cls(friend_name, origin.school, *args)\n",
    "        #it would pass any arguments back to init\n",
    "    \n",
    "class WorkingStudent(Student):\n",
    "    def __init__(self, name, school, salary, job_title):\n",
    "        super().__init__(name, school)\n",
    "        self.salary = salary\n",
    "        self.job_title = job_title"
   ]
  },
  {
   "cell_type": "markdown",
   "metadata": {},
   "source": []
  },
  {
   "cell_type": "code",
   "execution_count": 46,
   "metadata": {},
   "outputs": [
    {
     "name": "stdout",
     "output_type": "stream",
     "text": [
      "Anna\n",
      "Oxford\n",
      "12\n",
      "Greg\n",
      "Oxford\n",
      "17.5\n"
     ]
    }
   ],
   "source": [
    "anna = WorkingStudent(\"Anna\", \"Oxford\",12,'sde')\n",
    "print(anna.name)\n",
    "print(anna.school)\n",
    "print(anna.salary)\n",
    "\n",
    "friend = WorkingStudent.friend(anna, \"Greg\", 17.50, 'sde')\n",
    "print(friend.name)\n",
    "print(friend.school)\n",
    "print(friend.salary)"
   ]
  },
  {
   "cell_type": "markdown",
   "metadata": {},
   "source": [
    "### Decorators"
   ]
  },
  {
   "cell_type": "code",
   "execution_count": 48,
   "metadata": {
    "collapsed": true
   },
   "outputs": [],
   "source": [
    "import functools"
   ]
  },
  {
   "cell_type": "code",
   "execution_count": 53,
   "metadata": {},
   "outputs": [
    {
     "name": "stdout",
     "output_type": "stream",
     "text": [
      "In the decorator\n",
      "I am the funcyion\n",
      "After the decorator!\n"
     ]
    }
   ],
   "source": [
    "def my_decorator(func):\n",
    "    @functools.wraps(func)\n",
    "    def function_that_runs_func(): # This is the function that's really running\n",
    "        print(\"In the decorator\")\n",
    "        func()\n",
    "        print(\"After the decorator!\")\n",
    "    return function_that_runs_func\n",
    "\n",
    "@my_decorator\n",
    "def my_function():\n",
    "    print('I am the funcyion')\n",
    "    \n",
    "my_function()"
   ]
  },
  {
   "cell_type": "code",
   "execution_count": 2,
   "metadata": {
    "collapsed": true
   },
   "outputs": [],
   "source": [
    "from flask import Flask, jsonify, request, render_template"
   ]
  },
  {
   "cell_type": "code",
   "execution_count": 2,
   "metadata": {
    "collapsed": true
   },
   "outputs": [],
   "source": [
    "app = Flask(__name__)"
   ]
  },
  {
   "cell_type": "code",
   "execution_count": 58,
   "metadata": {},
   "outputs": [
    {
     "name": "stderr",
     "output_type": "stream",
     "text": [
      " * Running on http://127.0.0.1:5000/ (Press CTRL+C to quit)\n",
      "127.0.0.1 - - [21/Jan/2020 20:36:14] \"GET / HTTP/1.1\" 200 -\n",
      "127.0.0.1 - - [21/Jan/2020 20:36:14] \"GET /favicon.ico HTTP/1.1\" 404 -\n",
      "127.0.0.1 - - [21/Jan/2020 21:55:31] \"GET / HTTP/1.1\" 200 -\n"
     ]
    }
   ],
   "source": [
    "@app.route('/') #http://www.google.com Create a homepage\n",
    "def home():\n",
    "    return \"hello world!\"\n",
    "app.run(port=5000)"
   ]
  },
  {
   "cell_type": "code",
   "execution_count": 10,
   "metadata": {},
   "outputs": [
    {
     "name": "stdout",
     "output_type": "stream",
     "text": [
      " * Serving Flask app \"__main__\" (lazy loading)\n",
      " * Environment: production\n",
      "   WARNING: This is a development server. Do not use it in a production deployment.\n",
      "   Use a production WSGI server instead.\n",
      " * Debug mode: off\n"
     ]
    },
    {
     "name": "stderr",
     "output_type": "stream",
     "text": [
      " * Running on http://127.0.0.1:5000/ (Press CTRL+C to quit)\n"
     ]
    }
   ],
   "source": [
    "app = Flask(__name__)\n",
    "#Dictionary are not ordered\n",
    "stores = [\n",
    "    {\n",
    "    'name':'My wonderful',\n",
    "    'item': [\n",
    "            {\n",
    "            'name':'My Item',\n",
    "            'price': 15.90\n",
    "            }\n",
    "        ]\n",
    "    }\n",
    "]\n",
    "\n",
    "@app.route('/')\n",
    "def home():\n",
    "    return render_template('index.html')\n",
    "\n",
    "@app.route('/store',methods = ['POST']) #http://www.google.com Create a homepage\n",
    "def create_store():\n",
    "    pass\n",
    "\n",
    "@app.route('/store/<string:name>')\n",
    "def get_store(name):\n",
    "    pass\n",
    "\n",
    "@app.route('/store')\n",
    "def get_stores():\n",
    "    return jsonify({'stores':stores})\n",
    "\n",
    "#Post\n",
    "@app.route('/store/<string:name>/item',methods = ['POST'])\n",
    "def create_item_in_store(name):\n",
    "    pass\n",
    "\n",
    "@app.route('/store/<string:name>/item')\n",
    "def get_items_in_store(name):\n",
    "    pass\n",
    "\n",
    "app.run(port=5000)"
   ]
  },
  {
   "cell_type": "code",
   "execution_count": null,
   "metadata": {},
   "outputs": [
    {
     "name": "stdout",
     "output_type": "stream",
     "text": [
      " * Serving Flask app \"__main__\" (lazy loading)\n",
      " * Environment: production\n",
      "   WARNING: This is a development server. Do not use it in a production deployment.\n",
      "   Use a production WSGI server instead.\n",
      " * Debug mode: off\n"
     ]
    },
    {
     "name": "stderr",
     "output_type": "stream",
     "text": [
      " * Running on http://127.0.0.1:5000/ (Press CTRL+C to quit)\n",
      "127.0.0.1 - - [22/Jan/2020 18:06:04] \"\u001b[37mPOST /store/My%20wonderful/item HTTP/1.1\u001b[0m\" 200 -\n",
      "127.0.0.1 - - [22/Jan/2020 18:06:34] \"\u001b[37mGET /store/My%20wonderful/item HTTP/1.1\u001b[0m\" 200 -\n",
      "127.0.0.1 - - [22/Jan/2020 18:07:18] \"\u001b[37mGET /store HTTP/1.1\u001b[0m\" 200 -\n"
     ]
    }
   ],
   "source": [
    "app = Flask(__name__)\n",
    "#Dictionary are not ordered\n",
    "stores = [\n",
    "    {\n",
    "    'name':'My wonderful',\n",
    "    'item': [\n",
    "            {\n",
    "            'name':'My Item',\n",
    "            'price': 15.90\n",
    "            }\n",
    "        ]\n",
    "    }\n",
    "]\n",
    "\n",
    "@app.route('/')\n",
    "def home():\n",
    "    return render_template('index.html')\n",
    "\n",
    "@app.route('/store',methods = ['POST']) #http://www.google.com Create a homepage\n",
    "def create_store():\n",
    "    request_data = request.get_json()\n",
    "    new_store = {\n",
    "        'name': request_data['name'],\n",
    "        'items':[]\n",
    "    }\n",
    "    stores.append(new_store)\n",
    "    return jsonify(new_store)\n",
    "\n",
    "@app.route('/store/<string:name>')\n",
    "def get_store(name):\n",
    "    #Iterate over stores\n",
    "    #if the store name matches, return it\n",
    "    # if none match, return an error message\n",
    "    for store in stores:\n",
    "        if store['name'] == name:\n",
    "            return jsonify(store)\n",
    "    return jsonify({'message':'store not found'})\n",
    "\n",
    "@app.route('/store')\n",
    "def get_stores():\n",
    "    return jsonify({'stores':stores})\n",
    "\n",
    "#Post\n",
    "@app.route('/store/<string:name>/item',methods = ['POST'])\n",
    "\n",
    "def create_item_in_store(name):\n",
    "    request_data = request.get_json()\n",
    "    for store in stores:\n",
    "        if store['name'] == name:\n",
    "            new_item = {\n",
    "                'name': request_data['name'],\n",
    "                'price':request_data['price']\n",
    "            }\n",
    "            store['item'].append(new_item)\n",
    "            return jsonify(new_item)\n",
    "        return jsonify({'message':'store not found'})\n",
    "\n",
    "\n",
    "@app.route('/store/<string:name>/item')\n",
    "def get_items_in_store(name):\n",
    "    for store in stores:\n",
    "        if store['name'] == name:\n",
    "            return jsonify({'item':store['item']})\n",
    "    return jsonify({'message':'store not found'})\n",
    "\n",
    "app.run(port=5000)"
   ]
  },
  {
   "cell_type": "markdown",
   "metadata": {},
   "source": [
    "!python -m virtualenv vent\n",
    "!vent\\Scripts\\activate\n",
    "!deactivate"
   ]
  },
  {
   "cell_type": "code",
   "execution_count": 3,
   "metadata": {},
   "outputs": [
    {
     "name": "stdout",
     "output_type": "stream",
     "text": [
      "Requirement already satisfied: virtualenv in d:\\anaconda\\lib\\site-packages (16.7.9)\n"
     ]
    }
   ],
   "source": [
    "!pip install virtualenv"
   ]
  },
  {
   "cell_type": "code",
   "execution_count": 4,
   "metadata": {},
   "outputs": [
    {
     "name": "stderr",
     "output_type": "stream",
     "text": [
      "The system cannot find the path specified.\n"
     ]
    }
   ],
   "source": [
    "!vent\\Scripts\\activate"
   ]
  },
  {
   "cell_type": "code",
   "execution_count": 5,
   "metadata": {},
   "outputs": [
    {
     "name": "stdout",
     "output_type": "stream",
     "text": [
      "Using base prefix 'D:\\\\Anaconda'\n",
      "  No LICENSE.txt / LICENSE found in source\n",
      "New python executable in C:\\Users\\JIALIN~1\\FLASK-~1\\vent\\Scripts\\python.exe\n",
      "Installing setuptools, pip, wheel...\n",
      "done.\n"
     ]
    }
   ],
   "source": [
    "!python -m virtualenv vent"
   ]
  },
  {
   "cell_type": "code",
   "execution_count": null,
   "metadata": {
    "collapsed": true
   },
   "outputs": [],
   "source": []
  },
  {
   "cell_type": "code",
   "execution_count": 6,
   "metadata": {
    "collapsed": true
   },
   "outputs": [],
   "source": [
    "!vent\\Scripts\\activate"
   ]
  },
  {
   "cell_type": "code",
   "execution_count": 7,
   "metadata": {
    "scrolled": true
   },
   "outputs": [
    {
     "name": "stdout",
     "output_type": "stream",
     "text": [
      "Collecting Flask-RESTful\n",
      "  Downloading https://files.pythonhosted.org/packages/17/44/6e490150ee443ca81d5f88b61bb4bbb133d44d75b0b716ebe92489508da4/Flask_RESTful-0.3.7-py2.py3-none-any.whl\n",
      "Requirement already satisfied: pytz in d:\\anaconda\\lib\\site-packages (from Flask-RESTful) (2018.4)\n",
      "Requirement already satisfied: Flask>=0.8 in d:\\anaconda\\lib\\site-packages (from Flask-RESTful) (0.12.2)\n",
      "Collecting aniso8601>=0.82\n",
      "  Downloading https://files.pythonhosted.org/packages/eb/e4/787e104b58eadc1a710738d4e418d7e599e4e778e52cb8e5d5ef6ddd5833/aniso8601-8.0.0-py2.py3-none-any.whl (43kB)\n",
      "Requirement already satisfied: six>=1.3.0 in d:\\anaconda\\lib\\site-packages (from Flask-RESTful) (1.11.0)\n",
      "Requirement already satisfied: Werkzeug>=0.7 in d:\\anaconda\\lib\\site-packages (from Flask>=0.8->Flask-RESTful) (0.12.2)\n",
      "Requirement already satisfied: Jinja2>=2.4 in d:\\anaconda\\lib\\site-packages (from Flask>=0.8->Flask-RESTful) (2.9.6)\n",
      "Requirement already satisfied: itsdangerous>=0.21 in d:\\anaconda\\lib\\site-packages (from Flask>=0.8->Flask-RESTful) (0.24)\n",
      "Requirement already satisfied: click>=2.0 in d:\\anaconda\\lib\\site-packages (from Flask>=0.8->Flask-RESTful) (6.7)\n",
      "Requirement already satisfied: MarkupSafe>=0.23 in d:\\anaconda\\lib\\site-packages (from Jinja2>=2.4->Flask>=0.8->Flask-RESTful) (1.0)\n",
      "Installing collected packages: aniso8601, Flask-RESTful\n",
      "Successfully installed Flask-RESTful-0.3.7 aniso8601-8.0.0\n"
     ]
    }
   ],
   "source": [
    "!pip install Flask-RESTful"
   ]
  },
  {
   "cell_type": "code",
   "execution_count": null,
   "metadata": {
    "collapsed": true
   },
   "outputs": [],
   "source": []
  }
 ],
 "metadata": {
  "kernelspec": {
   "display_name": "Python 3",
   "language": "python",
   "name": "python3"
  },
  "language_info": {
   "codemirror_mode": {
    "name": "ipython",
    "version": 3
   },
   "file_extension": ".py",
   "mimetype": "text/x-python",
   "name": "python",
   "nbconvert_exporter": "python",
   "pygments_lexer": "ipython3",
   "version": "3.6.5"
  }
 },
 "nbformat": 4,
 "nbformat_minor": 2
}
